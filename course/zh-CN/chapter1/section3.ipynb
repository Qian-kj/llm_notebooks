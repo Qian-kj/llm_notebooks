{
 "cells": [
  {
   "cell_type": "markdown",
   "metadata": {},
   "source": [
    "# Transformers能做什么？"
   ]
  },
  {
   "cell_type": "markdown",
   "metadata": {},
   "source": [
    "Install the Transformers, Datasets, and Evaluate libraries to run this notebook."
   ]
  },
  {
   "cell_type": "code",
   "execution_count": 4,
   "metadata": {},
   "outputs": [
    {
     "name": "stdout",
     "output_type": "stream",
     "text": [
      "^C\n"
     ]
    },
    {
     "name": "stdout",
     "output_type": "stream",
     "text": [
      "Collecting datasets\n",
      "  Obtaining dependency information for datasets from https://files.pythonhosted.org/packages/ed/a5/33cf000137545a08b0a3a6ea76c8ccbd87917f78bb5d737f9f56f3b11ef6/datasets-3.1.0-py3-none-any.whl.metadata\n",
      "  Downloading datasets-3.1.0-py3-none-any.whl.metadata (20 kB)\n",
      "Collecting evaluate\n",
      "  Obtaining dependency information for evaluate from https://files.pythonhosted.org/packages/a2/e7/cbca9e2d2590eb9b5aa8f7ebabe1beb1498f9462d2ecede5c9fd9735faaf/evaluate-0.4.3-py3-none-any.whl.metadata\n",
      "  Downloading evaluate-0.4.3-py3-none-any.whl.metadata (9.2 kB)\n",
      "Collecting transformers[sentencepiece]\n",
      "  Obtaining dependency information for transformers[sentencepiece] from https://files.pythonhosted.org/packages/51/51/b87caa939fedf307496e4dbf412f4b909af3d9ca8b189fc3b65c1faa456f/transformers-4.46.3-py3-none-any.whl.metadata\n",
      "  Downloading transformers-4.46.3-py3-none-any.whl.metadata (44 kB)\n",
      "     ---------------------------------------- 0.0/44.1 kB ? eta -:--:--\n",
      "     ---------------------------------------- 44.1/44.1 kB 2.3 MB/s eta 0:00:00\n",
      "Collecting filelock (from datasets)\n",
      "  Obtaining dependency information for filelock from https://files.pythonhosted.org/packages/b9/f8/feced7779d755758a52d1f6635d990b8d98dc0a29fa568bbe0625f18fdf3/filelock-3.16.1-py3-none-any.whl.metadata\n",
      "  Downloading filelock-3.16.1-py3-none-any.whl.metadata (2.9 kB)\n",
      "Collecting numpy>=1.17 (from datasets)\n",
      "  Obtaining dependency information for numpy>=1.17 from https://files.pythonhosted.org/packages/a6/84/fa11dad3404b7634aaab50733581ce11e5350383311ea7a7010f464c0170/numpy-2.1.3-cp312-cp312-win_amd64.whl.metadata\n",
      "  Downloading numpy-2.1.3-cp312-cp312-win_amd64.whl.metadata (60 kB)\n",
      "     ---------------------------------------- 0.0/60.8 kB ? eta -:--:--\n",
      "     ---------------------------------------- 60.8/60.8 kB ? eta 0:00:00\n",
      "Collecting pyarrow>=15.0.0 (from datasets)\n",
      "  Obtaining dependency information for pyarrow>=15.0.0 from https://files.pythonhosted.org/packages/76/52/f8da04195000099d394012b8d42c503d7041b79f778d854f410e5f05049a/pyarrow-18.1.0-cp312-cp312-win_amd64.whl.metadata\n",
      "  Downloading pyarrow-18.1.0-cp312-cp312-win_amd64.whl.metadata (3.4 kB)\n",
      "Collecting dill<0.3.9,>=0.3.0 (from datasets)\n",
      "  Obtaining dependency information for dill<0.3.9,>=0.3.0 from https://files.pythonhosted.org/packages/c9/7a/cef76fd8438a42f96db64ddaa85280485a9c395e7df3db8158cfec1eee34/dill-0.3.8-py3-none-any.whl.metadata\n",
      "  Downloading dill-0.3.8-py3-none-any.whl.metadata (10 kB)\n",
      "Collecting pandas (from datasets)\n",
      "  Obtaining dependency information for pandas from https://files.pythonhosted.org/packages/29/d4/1244ab8edf173a10fd601f7e13b9566c1b525c4f365d6bee918e68381889/pandas-2.2.3-cp312-cp312-win_amd64.whl.metadata\n",
      "  Downloading pandas-2.2.3-cp312-cp312-win_amd64.whl.metadata (19 kB)\n",
      "Collecting requests>=2.32.2 (from datasets)\n",
      "  Obtaining dependency information for requests>=2.32.2 from https://files.pythonhosted.org/packages/f9/9b/335f9764261e915ed497fcdeb11df5dfd6f7bf257d4a6a2a686d80da4d54/requests-2.32.3-py3-none-any.whl.metadata\n",
      "  Downloading requests-2.32.3-py3-none-any.whl.metadata (4.6 kB)\n",
      "Collecting tqdm>=4.66.3 (from datasets)\n",
      "  Obtaining dependency information for tqdm>=4.66.3 from https://files.pythonhosted.org/packages/d0/30/dc54f88dd4a2b5dc8a0279bdd7270e735851848b762aeb1c1184ed1f6b14/tqdm-4.67.1-py3-none-any.whl.metadata\n",
      "  Downloading tqdm-4.67.1-py3-none-any.whl.metadata (57 kB)\n",
      "     ---------------------------------------- 0.0/57.7 kB ? eta -:--:--\n",
      "     ---------------------------------------- 57.7/57.7 kB 1.5 MB/s eta 0:00:00\n",
      "Collecting xxhash (from datasets)\n",
      "  Obtaining dependency information for xxhash from https://files.pythonhosted.org/packages/d9/6b/1c443fe6cfeb4ad1dcf231cdec96eb94fb43d6498b4469ed8b51f8b59a37/xxhash-3.5.0-cp312-cp312-win_amd64.whl.metadata\n",
      "  Downloading xxhash-3.5.0-cp312-cp312-win_amd64.whl.metadata (13 kB)\n",
      "Collecting multiprocess<0.70.17 (from datasets)\n",
      "  Obtaining dependency information for multiprocess<0.70.17 from https://files.pythonhosted.org/packages/0a/7d/a988f258104dcd2ccf1ed40fdc97e26c4ac351eeaf81d76e266c52d84e2f/multiprocess-0.70.16-py312-none-any.whl.metadata\n",
      "  Downloading multiprocess-0.70.16-py312-none-any.whl.metadata (7.2 kB)\n",
      "Collecting fsspec[http]<=2024.9.0,>=2023.1.0 (from datasets)\n",
      "  Obtaining dependency information for fsspec[http]<=2024.9.0,>=2023.1.0 from https://files.pythonhosted.org/packages/1d/a0/6aaea0c2fbea2f89bfd5db25fb1e3481896a423002ebe4e55288907a97a3/fsspec-2024.9.0-py3-none-any.whl.metadata\n",
      "  Downloading fsspec-2024.9.0-py3-none-any.whl.metadata (11 kB)\n",
      "Collecting aiohttp (from datasets)\n",
      "  Obtaining dependency information for aiohttp from https://files.pythonhosted.org/packages/c8/9e/79aed1b3e110a02081ca47ba4a27d7e20040af241643a2e527c668634f22/aiohttp-3.11.9-cp312-cp312-win_amd64.whl.metadata\n",
      "  Downloading aiohttp-3.11.9-cp312-cp312-win_amd64.whl.metadata (8.0 kB)\n",
      "Collecting huggingface-hub>=0.23.0 (from datasets)\n",
      "  Obtaining dependency information for huggingface-hub>=0.23.0 from https://files.pythonhosted.org/packages/95/9b/3068fb3ae0b498eb66960ca5f4d92a81c91458cacd4dc17bfa6d40ce90fb/huggingface_hub-0.26.3-py3-none-any.whl.metadata\n",
      "  Downloading huggingface_hub-0.26.3-py3-none-any.whl.metadata (13 kB)\n",
      "Collecting packaging (from datasets)\n",
      "  Obtaining dependency information for packaging from https://files.pythonhosted.org/packages/88/ef/eb23f262cca3c0c4eb7ab1933c3b1f03d021f2c48f54763065b6f0e321be/packaging-24.2-py3-none-any.whl.metadata\n",
      "  Downloading packaging-24.2-py3-none-any.whl.metadata (3.2 kB)\n",
      "Collecting pyyaml>=5.1 (from datasets)\n",
      "  Obtaining dependency information for pyyaml>=5.1 from https://files.pythonhosted.org/packages/0c/e8/4f648c598b17c3d06e8753d7d13d57542b30d56e6c2dedf9c331ae56312e/PyYAML-6.0.2-cp312-cp312-win_amd64.whl.metadata\n",
      "  Downloading PyYAML-6.0.2-cp312-cp312-win_amd64.whl.metadata (2.1 kB)\n",
      "Collecting regex!=2019.12.17 (from transformers[sentencepiece])\n",
      "  Obtaining dependency information for regex!=2019.12.17 from https://files.pythonhosted.org/packages/38/ec/ad2d7de49a600cdb8dd78434a1aeffe28b9d6fc42eb36afab4a27ad23384/regex-2024.11.6-cp312-cp312-win_amd64.whl.metadata\n",
      "  Downloading regex-2024.11.6-cp312-cp312-win_amd64.whl.metadata (41 kB)\n",
      "     ---------------------------------------- 0.0/41.5 kB ? eta -:--:--\n",
      "     ---------------------------------------- 41.5/41.5 kB ? eta 0:00:00\n",
      "Collecting tokenizers<0.21,>=0.20 (from transformers[sentencepiece])\n",
      "  Obtaining dependency information for tokenizers<0.21,>=0.20 from https://files.pythonhosted.org/packages/bd/68/61d85ae7ae96dde7d0974ff3538db75d5cdc29be2e4329cd7fc51a283e22/tokenizers-0.20.3-cp312-none-win_amd64.whl.metadata\n",
      "  Downloading tokenizers-0.20.3-cp312-none-win_amd64.whl.metadata (6.9 kB)\n",
      "Collecting safetensors>=0.4.1 (from transformers[sentencepiece])\n",
      "  Obtaining dependency information for safetensors>=0.4.1 from https://files.pythonhosted.org/packages/f1/5f/ab6b6cec85b40789801f35b7d2fb579ae242d8193929974a106d5ff5c835/safetensors-0.4.5-cp312-none-win_amd64.whl.metadata\n",
      "  Downloading safetensors-0.4.5-cp312-none-win_amd64.whl.metadata (3.9 kB)\n",
      "Collecting sentencepiece!=0.1.92,>=0.1.91 (from transformers[sentencepiece])\n",
      "  Obtaining dependency information for sentencepiece!=0.1.92,>=0.1.91 from https://files.pythonhosted.org/packages/c6/97/d159c32642306ee2b70732077632895438867b3b6df282354bd550cf2a67/sentencepiece-0.2.0-cp312-cp312-win_amd64.whl.metadata\n",
      "  Downloading sentencepiece-0.2.0-cp312-cp312-win_amd64.whl.metadata (8.3 kB)\n",
      "Collecting protobuf (from transformers[sentencepiece])\n",
      "  Obtaining dependency information for protobuf from https://files.pythonhosted.org/packages/e3/33/dc7a7712f457456b7e0b16420ab8ba1cc8686751d3f28392eb43d0029ab9/protobuf-5.29.1-cp310-abi3-win_amd64.whl.metadata\n",
      "  Downloading protobuf-5.29.1-cp310-abi3-win_amd64.whl.metadata (592 bytes)\n",
      "Collecting aiohappyeyeballs>=2.3.0 (from aiohttp->datasets)\n",
      "  Obtaining dependency information for aiohappyeyeballs>=2.3.0 from https://files.pythonhosted.org/packages/b9/74/fbb6559de3607b3300b9be3cc64e97548d55678e44623db17820dbd20002/aiohappyeyeballs-2.4.4-py3-none-any.whl.metadata\n",
      "  Downloading aiohappyeyeballs-2.4.4-py3-none-any.whl.metadata (6.1 kB)\n",
      "Collecting aiosignal>=1.1.2 (from aiohttp->datasets)\n",
      "  Obtaining dependency information for aiosignal>=1.1.2 from https://files.pythonhosted.org/packages/76/ac/a7305707cb852b7e16ff80eaf5692309bde30e2b1100a1fcacdc8f731d97/aiosignal-1.3.1-py3-none-any.whl.metadata\n",
      "  Downloading aiosignal-1.3.1-py3-none-any.whl.metadata (4.0 kB)\n",
      "Collecting attrs>=17.3.0 (from aiohttp->datasets)\n",
      "  Obtaining dependency information for attrs>=17.3.0 from https://files.pythonhosted.org/packages/6a/21/5b6702a7f963e95456c0de2d495f67bf5fd62840ac655dc451586d23d39a/attrs-24.2.0-py3-none-any.whl.metadata\n",
      "  Downloading attrs-24.2.0-py3-none-any.whl.metadata (11 kB)\n",
      "Collecting frozenlist>=1.1.1 (from aiohttp->datasets)\n",
      "  Obtaining dependency information for frozenlist>=1.1.1 from https://files.pythonhosted.org/packages/b1/56/4e45136ffc6bdbfa68c29ca56ef53783ef4c2fd395f7cbf99a2624aa9aaa/frozenlist-1.5.0-cp312-cp312-win_amd64.whl.metadata\n",
      "  Downloading frozenlist-1.5.0-cp312-cp312-win_amd64.whl.metadata (14 kB)\n",
      "Collecting multidict<7.0,>=4.5 (from aiohttp->datasets)\n",
      "  Obtaining dependency information for multidict<7.0,>=4.5 from https://files.pythonhosted.org/packages/a3/bf/f332a13486b1ed0496d624bcc7e8357bb8053823e8cd4b9a18edc1d97e73/multidict-6.1.0-cp312-cp312-win_amd64.whl.metadata\n",
      "  Downloading multidict-6.1.0-cp312-cp312-win_amd64.whl.metadata (5.1 kB)\n",
      "Collecting propcache>=0.2.0 (from aiohttp->datasets)\n",
      "  Obtaining dependency information for propcache>=0.2.0 from https://files.pythonhosted.org/packages/3b/77/a92c3ef994e47180862b9d7d11e37624fb1c00a16d61faf55115d970628b/propcache-0.2.1-cp312-cp312-win_amd64.whl.metadata\n",
      "  Downloading propcache-0.2.1-cp312-cp312-win_amd64.whl.metadata (9.5 kB)\n",
      "Collecting yarl<2.0,>=1.17.0 (from aiohttp->datasets)\n",
      "  Obtaining dependency information for yarl<2.0,>=1.17.0 from https://files.pythonhosted.org/packages/34/45/0e055320daaabfc169b21ff6174567b2c910c45617b0d79c68d7ab349b02/yarl-1.18.3-cp312-cp312-win_amd64.whl.metadata\n",
      "  Downloading yarl-1.18.3-cp312-cp312-win_amd64.whl.metadata (71 kB)\n",
      "     ---------------------------------------- 0.0/71.4 kB ? eta -:--:--\n",
      "     ---------------------------------------- 71.4/71.4 kB 3.8 MB/s eta 0:00:00\n",
      "Collecting typing-extensions>=3.7.4.3 (from huggingface-hub>=0.23.0->datasets)\n",
      "  Obtaining dependency information for typing-extensions>=3.7.4.3 from https://files.pythonhosted.org/packages/26/9f/ad63fc0248c5379346306f8668cda6e2e2e9c95e01216d2b8ffd9ff037d0/typing_extensions-4.12.2-py3-none-any.whl.metadata\n",
      "  Downloading typing_extensions-4.12.2-py3-none-any.whl.metadata (3.0 kB)\n",
      "Collecting charset-normalizer<4,>=2 (from requests>=2.32.2->datasets)\n",
      "  Obtaining dependency information for charset-normalizer<4,>=2 from https://files.pythonhosted.org/packages/3e/67/7b72b69d25b89c0b3cea583ee372c43aa24df15f0e0f8d3982c57804984b/charset_normalizer-3.4.0-cp312-cp312-win_amd64.whl.metadata\n",
      "  Downloading charset_normalizer-3.4.0-cp312-cp312-win_amd64.whl.metadata (34 kB)\n",
      "Collecting idna<4,>=2.5 (from requests>=2.32.2->datasets)\n",
      "  Obtaining dependency information for idna<4,>=2.5 from https://files.pythonhosted.org/packages/76/c6/c88e154df9c4e1a2a66ccf0005a88dfb2650c1dffb6f5ce603dfbd452ce3/idna-3.10-py3-none-any.whl.metadata\n",
      "  Downloading idna-3.10-py3-none-any.whl.metadata (10 kB)\n",
      "Collecting urllib3<3,>=1.21.1 (from requests>=2.32.2->datasets)\n",
      "  Obtaining dependency information for urllib3<3,>=1.21.1 from https://files.pythonhosted.org/packages/ce/d9/5f4c13cecde62396b0d3fe530a50ccea91e7dfc1ccf0e09c228841bb5ba8/urllib3-2.2.3-py3-none-any.whl.metadata\n",
      "  Downloading urllib3-2.2.3-py3-none-any.whl.metadata (6.5 kB)\n",
      "Collecting certifi>=2017.4.17 (from requests>=2.32.2->datasets)\n",
      "  Obtaining dependency information for certifi>=2017.4.17 from https://files.pythonhosted.org/packages/12/90/3c9ff0512038035f59d279fddeb79f5f1eccd8859f06d6163c58798b9487/certifi-2024.8.30-py3-none-any.whl.metadata\n",
      "  Downloading certifi-2024.8.30-py3-none-any.whl.metadata (2.2 kB)\n",
      "Collecting colorama (from tqdm>=4.66.3->datasets)\n",
      "  Obtaining dependency information for colorama from https://files.pythonhosted.org/packages/d1/d6/3965ed04c63042e047cb6a3e6ed1a63a35087b6a609aa3a15ed8ac56c221/colorama-0.4.6-py2.py3-none-any.whl.metadata\n",
      "  Downloading colorama-0.4.6-py2.py3-none-any.whl.metadata (17 kB)\n",
      "Collecting python-dateutil>=2.8.2 (from pandas->datasets)\n",
      "  Obtaining dependency information for python-dateutil>=2.8.2 from https://files.pythonhosted.org/packages/ec/57/56b9bcc3c9c6a792fcbaf139543cee77261f3651ca9da0c93f5c1221264b/python_dateutil-2.9.0.post0-py2.py3-none-any.whl.metadata\n",
      "  Downloading python_dateutil-2.9.0.post0-py2.py3-none-any.whl.metadata (8.4 kB)\n",
      "Collecting pytz>=2020.1 (from pandas->datasets)\n",
      "  Obtaining dependency information for pytz>=2020.1 from https://files.pythonhosted.org/packages/11/c3/005fcca25ce078d2cc29fd559379817424e94885510568bc1bc53d7d5846/pytz-2024.2-py2.py3-none-any.whl.metadata\n",
      "  Downloading pytz-2024.2-py2.py3-none-any.whl.metadata (22 kB)\n",
      "Collecting tzdata>=2022.7 (from pandas->datasets)\n",
      "  Obtaining dependency information for tzdata>=2022.7 from https://files.pythonhosted.org/packages/a6/ab/7e5f53c3b9d14972843a647d8d7a853969a58aecc7559cb3267302c94774/tzdata-2024.2-py2.py3-none-any.whl.metadata\n",
      "  Downloading tzdata-2024.2-py2.py3-none-any.whl.metadata (1.4 kB)\n",
      "Collecting six>=1.5 (from python-dateutil>=2.8.2->pandas->datasets)\n",
      "  Obtaining dependency information for six>=1.5 from https://files.pythonhosted.org/packages/b7/ce/149a00dd41f10bc29e5921b496af8b574d8413afcd5e30dfa0ed46c2cc5e/six-1.17.0-py2.py3-none-any.whl.metadata\n",
      "  Downloading six-1.17.0-py2.py3-none-any.whl.metadata (1.7 kB)\n",
      "Downloading datasets-3.1.0-py3-none-any.whl (480 kB)\n",
      "   ---------------------------------------- 0.0/480.6 kB ? eta -:--:--\n",
      "   --------------------- ------------------ 256.0/480.6 kB 7.9 MB/s eta 0:00:01\n",
      "   ---------------------------------------- 480.6/480.6 kB 7.5 MB/s eta 0:00:00\n",
      "Downloading evaluate-0.4.3-py3-none-any.whl (84 kB)\n",
      "   ---------------------------------------- 0.0/84.0 kB ? eta -:--:--\n",
      "   ---------------------------------------- 84.0/84.0 kB 4.6 MB/s eta 0:00:00\n",
      "Downloading dill-0.3.8-py3-none-any.whl (116 kB)\n",
      "   ---------------------------------------- 0.0/116.3 kB ? eta -:--:--\n",
      "   ---------------------------------------- 116.3/116.3 kB 7.1 MB/s eta 0:00:00\n",
      "Downloading aiohttp-3.11.9-cp312-cp312-win_amd64.whl (436 kB)\n",
      "   ---------------------------------------- 0.0/436.7 kB ? eta -:--:--\n",
      "   --------------------------------- ------ 368.6/436.7 kB 7.6 MB/s eta 0:00:01\n",
      "   ---------------------------------------- 436.7/436.7 kB 6.9 MB/s eta 0:00:00\n",
      "Downloading huggingface_hub-0.26.3-py3-none-any.whl (447 kB)\n",
      "   ---------------------------------------- 0.0/447.6 kB ? eta -:--:--\n",
      "   ------------------------------------ --- 409.6/447.6 kB 8.5 MB/s eta 0:00:01\n",
      "   ---------------------------------------- 447.6/447.6 kB 7.1 MB/s eta 0:00:00\n",
      "Downloading multiprocess-0.70.16-py312-none-any.whl (146 kB)\n",
      "   ---------------------------------------- 0.0/146.7 kB ? eta -:--:--\n",
      "   ---------------------------------------- 146.7/146.7 kB ? eta 0:00:00\n",
      "Downloading numpy-2.1.3-cp312-cp312-win_amd64.whl (12.6 MB)\n",
      "   ---------------------------------------- 0.0/12.6 MB ? eta -:--:--\n",
      "    --------------------------------------- 0.3/12.6 MB 9.3 MB/s eta 0:00:02\n",
      "   -- ------------------------------------- 0.7/12.6 MB 8.7 MB/s eta 0:00:02\n",
      "   --- ------------------------------------ 1.0/12.6 MB 7.7 MB/s eta 0:00:02\n",
      "   ---- ----------------------------------- 1.4/12.6 MB 7.9 MB/s eta 0:00:02\n",
      "   ----- ---------------------------------- 1.7/12.6 MB 7.8 MB/s eta 0:00:02\n",
      "   ------ --------------------------------- 2.0/12.6 MB 7.6 MB/s eta 0:00:02\n",
      "   ------- -------------------------------- 2.4/12.6 MB 7.6 MB/s eta 0:00:02\n",
      "   -------- ------------------------------- 2.7/12.6 MB 7.4 MB/s eta 0:00:02\n",
      "   --------- ------------------------------ 3.1/12.6 MB 7.5 MB/s eta 0:00:02\n",
      "   ---------- ----------------------------- 3.4/12.6 MB 7.5 MB/s eta 0:00:02\n",
      "   ----------- ---------------------------- 3.6/12.6 MB 7.3 MB/s eta 0:00:02\n",
      "   ------------ --------------------------- 4.0/12.6 MB 7.2 MB/s eta 0:00:02\n",
      "   ------------- -------------------------- 4.3/12.6 MB 7.2 MB/s eta 0:00:02\n",
      "   -------------- ------------------------- 4.7/12.6 MB 7.3 MB/s eta 0:00:02\n",
      "   --------------- ------------------------ 5.0/12.6 MB 7.2 MB/s eta 0:00:02\n",
      "   ----------------- ---------------------- 5.3/12.6 MB 7.3 MB/s eta 0:00:01\n",
      "   ----------------- ---------------------- 5.6/12.6 MB 7.2 MB/s eta 0:00:01\n",
      "   ------------------- -------------------- 6.0/12.6 MB 7.2 MB/s eta 0:00:01\n",
      "   -------------------- ------------------- 6.4/12.6 MB 7.3 MB/s eta 0:00:01\n",
      "   --------------------- ------------------ 6.7/12.6 MB 7.2 MB/s eta 0:00:01\n",
      "   ---------------------- ----------------- 7.0/12.6 MB 7.3 MB/s eta 0:00:01\n",
      "   ----------------------- ---------------- 7.3/12.6 MB 7.3 MB/s eta 0:00:01\n",
      "   ------------------------ --------------- 7.6/12.6 MB 7.2 MB/s eta 0:00:01\n",
      "   ------------------------- -------------- 8.0/12.6 MB 7.3 MB/s eta 0:00:01\n",
      "   -------------------------- ------------- 8.3/12.6 MB 7.3 MB/s eta 0:00:01\n",
      "   --------------------------- ------------ 8.7/12.6 MB 7.3 MB/s eta 0:00:01\n",
      "   ---------------------------- ----------- 8.9/12.6 MB 7.2 MB/s eta 0:00:01\n",
      "   ----------------------------- ---------- 9.4/12.6 MB 7.3 MB/s eta 0:00:01\n",
      "   ------------------------------ --------- 9.7/12.6 MB 7.3 MB/s eta 0:00:01\n",
      "   ------------------------------- -------- 10.0/12.6 MB 7.3 MB/s eta 0:00:01\n",
      "   -------------------------------- ------- 10.3/12.6 MB 7.3 MB/s eta 0:00:01\n",
      "   --------------------------------- ------ 10.7/12.6 MB 7.2 MB/s eta 0:00:01\n",
      "   ----------------------------------- ---- 11.0/12.6 MB 7.2 MB/s eta 0:00:01\n",
      "   ----------------------------------- ---- 11.3/12.6 MB 7.2 MB/s eta 0:00:01\n",
      "   ------------------------------------- -- 11.7/12.6 MB 7.3 MB/s eta 0:00:01\n",
      "   -------------------------------------- - 12.0/12.6 MB 7.2 MB/s eta 0:00:01\n",
      "   ---------------------------------------  12.4/12.6 MB 7.2 MB/s eta 0:00:01\n",
      "   ---------------------------------------  12.6/12.6 MB 7.2 MB/s eta 0:00:01\n",
      "   ---------------------------------------- 12.6/12.6 MB 7.0 MB/s eta 0:00:00\n",
      "Downloading packaging-24.2-py3-none-any.whl (65 kB)\n",
      "   ---------------------------------------- 0.0/65.5 kB ? eta -:--:--\n",
      "   ---------------------------------------- 65.5/65.5 kB ? eta 0:00:00\n",
      "Downloading pyarrow-18.1.0-cp312-cp312-win_amd64.whl (25.1 MB)\n",
      "   ---------------------------------------- 0.0/25.1 MB ? eta -:--:--\n",
      "   ---------------------------------------- 0.2/25.1 MB 6.4 MB/s eta 0:00:04\n",
      "    --------------------------------------- 0.5/25.1 MB 6.4 MB/s eta 0:00:04\n",
      "   - -------------------------------------- 0.9/25.1 MB 6.8 MB/s eta 0:00:04\n",
      "   - -------------------------------------- 1.2/25.1 MB 6.8 MB/s eta 0:00:04\n",
      "   -- ------------------------------------- 1.5/25.1 MB 7.0 MB/s eta 0:00:04\n",
      "   --- ------------------------------------ 1.9/25.1 MB 7.1 MB/s eta 0:00:04\n",
      "   --- ------------------------------------ 2.2/25.1 MB 6.9 MB/s eta 0:00:04\n",
      "   --- ------------------------------------ 2.5/25.1 MB 6.9 MB/s eta 0:00:04\n",
      "   ---- ----------------------------------- 2.8/25.1 MB 6.8 MB/s eta 0:00:04\n",
      "   ----- ---------------------------------- 3.2/25.1 MB 7.1 MB/s eta 0:00:04\n",
      "   ----- ---------------------------------- 3.5/25.1 MB 7.0 MB/s eta 0:00:04\n",
      "   ------ --------------------------------- 3.9/25.1 MB 7.2 MB/s eta 0:00:03\n",
      "   ------ --------------------------------- 4.2/25.1 MB 7.2 MB/s eta 0:00:03\n",
      "   ------- -------------------------------- 4.5/25.1 MB 7.2 MB/s eta 0:00:03\n",
      "   ------- -------------------------------- 4.9/25.1 MB 7.1 MB/s eta 0:00:03\n",
      "   -------- ------------------------------- 5.1/25.1 MB 7.0 MB/s eta 0:00:03\n",
      "   -------- ------------------------------- 5.5/25.1 MB 7.2 MB/s eta 0:00:03\n",
      "   --------- ------------------------------ 5.8/25.1 MB 7.0 MB/s eta 0:00:03\n",
      "   --------- ------------------------------ 6.1/25.1 MB 7.0 MB/s eta 0:00:03\n",
      "   ---------- ----------------------------- 6.5/25.1 MB 7.0 MB/s eta 0:00:03\n",
      "   ---------- ----------------------------- 6.7/25.1 MB 7.1 MB/s eta 0:00:03\n",
      "   ----------- ---------------------------- 7.1/25.1 MB 7.0 MB/s eta 0:00:03\n",
      "   ----------- ---------------------------- 7.4/25.1 MB 7.0 MB/s eta 0:00:03\n",
      "   ------------ --------------------------- 7.7/25.1 MB 7.0 MB/s eta 0:00:03\n",
      "   ------------ --------------------------- 8.1/25.1 MB 7.1 MB/s eta 0:00:03\n",
      "   ------------- -------------------------- 8.4/25.1 MB 7.1 MB/s eta 0:00:03\n",
      "   ------------- -------------------------- 8.8/25.1 MB 7.1 MB/s eta 0:00:03\n",
      "   -------------- ------------------------- 9.0/25.1 MB 7.0 MB/s eta 0:00:03\n",
      "   --------------- ------------------------ 9.4/25.1 MB 7.1 MB/s eta 0:00:03\n",
      "   --------------- ------------------------ 9.7/25.1 MB 7.1 MB/s eta 0:00:03\n",
      "   ---------------- ----------------------- 10.1/25.1 MB 7.0 MB/s eta 0:00:03\n",
      "   ---------------- ----------------------- 10.4/25.1 MB 7.0 MB/s eta 0:00:03\n",
      "   ----------------- ---------------------- 10.7/25.1 MB 7.1 MB/s eta 0:00:03\n",
      "   ----------------- ---------------------- 11.1/25.1 MB 7.1 MB/s eta 0:00:02\n",
      "   ------------------ --------------------- 11.4/25.1 MB 7.1 MB/s eta 0:00:02\n",
      "   ------------------ --------------------- 11.8/25.1 MB 7.1 MB/s eta 0:00:02\n",
      "   ------------------- -------------------- 12.1/25.1 MB 7.1 MB/s eta 0:00:02\n",
      "   ------------------- -------------------- 12.5/25.1 MB 7.2 MB/s eta 0:00:02\n",
      "   -------------------- ------------------- 12.8/25.1 MB 7.1 MB/s eta 0:00:02\n",
      "   -------------------- ------------------- 13.1/25.1 MB 7.1 MB/s eta 0:00:02\n",
      "   --------------------- ------------------ 13.5/25.1 MB 7.2 MB/s eta 0:00:02\n",
      "   --------------------- ------------------ 13.7/25.1 MB 7.1 MB/s eta 0:00:02\n",
      "   ---------------------- ----------------- 14.1/25.1 MB 7.1 MB/s eta 0:00:02\n",
      "   ----------------------- ---------------- 14.4/25.1 MB 7.1 MB/s eta 0:00:02\n",
      "   ----------------------- ---------------- 14.7/25.1 MB 7.1 MB/s eta 0:00:02\n",
      "   ------------------------ --------------- 15.1/25.1 MB 7.1 MB/s eta 0:00:02\n",
      "   ------------------------ --------------- 15.4/25.1 MB 7.1 MB/s eta 0:00:02\n",
      "   ------------------------- -------------- 15.7/25.1 MB 7.1 MB/s eta 0:00:02\n",
      "   ------------------------- -------------- 16.1/25.1 MB 7.1 MB/s eta 0:00:02\n",
      "   -------------------------- ------------- 16.4/25.1 MB 7.2 MB/s eta 0:00:02\n",
      "   -------------------------- ------------- 16.7/25.1 MB 7.2 MB/s eta 0:00:02\n",
      "   --------------------------- ------------ 17.0/25.1 MB 7.2 MB/s eta 0:00:02\n",
      "   --------------------------- ------------ 17.3/25.1 MB 7.2 MB/s eta 0:00:02\n",
      "   ---------------------------- ----------- 17.7/25.1 MB 7.2 MB/s eta 0:00:02\n",
      "   ---------------------------- ----------- 18.0/25.1 MB 7.3 MB/s eta 0:00:01\n",
      "   ----------------------------- ---------- 18.3/25.1 MB 7.2 MB/s eta 0:00:01\n",
      "   ----------------------------- ---------- 18.6/25.1 MB 7.2 MB/s eta 0:00:01\n",
      "   ------------------------------ --------- 19.0/25.1 MB 7.2 MB/s eta 0:00:01\n",
      "   ------------------------------ --------- 19.3/25.1 MB 7.1 MB/s eta 0:00:01\n",
      "   ------------------------------- -------- 19.7/25.1 MB 7.2 MB/s eta 0:00:01\n",
      "   ------------------------------- -------- 19.9/25.1 MB 7.1 MB/s eta 0:00:01\n",
      "   -------------------------------- ------- 20.3/25.1 MB 7.1 MB/s eta 0:00:01\n",
      "   -------------------------------- ------- 20.6/25.1 MB 7.1 MB/s eta 0:00:01\n",
      "   --------------------------------- ------ 20.9/25.1 MB 7.1 MB/s eta 0:00:01\n",
      "   --------------------------------- ------ 21.3/25.1 MB 7.1 MB/s eta 0:00:01\n",
      "   ---------------------------------- ----- 21.6/25.1 MB 7.1 MB/s eta 0:00:01\n",
      "   ----------------------------------- ---- 22.0/25.1 MB 7.1 MB/s eta 0:00:01\n",
      "   ----------------------------------- ---- 22.3/25.1 MB 7.1 MB/s eta 0:00:01\n",
      "   ------------------------------------ --- 22.6/25.1 MB 7.0 MB/s eta 0:00:01\n",
      "   ------------------------------------ --- 22.9/25.1 MB 7.0 MB/s eta 0:00:01\n",
      "   ------------------------------------- -- 23.2/25.1 MB 7.1 MB/s eta 0:00:01\n",
      "   ------------------------------------- -- 23.6/25.1 MB 7.0 MB/s eta 0:00:01\n",
      "   -------------------------------------- - 23.9/25.1 MB 7.0 MB/s eta 0:00:01\n",
      "   -------------------------------------- - 24.2/25.1 MB 7.0 MB/s eta 0:00:01\n",
      "   ---------------------------------------  24.5/25.1 MB 7.0 MB/s eta 0:00:01\n",
      "   ---------------------------------------  24.7/25.1 MB 7.0 MB/s eta 0:00:01\n",
      "   ---------------------------------------  24.9/25.1 MB 6.8 MB/s eta 0:00:01\n",
      "   ---------------------------------------  25.1/25.1 MB 6.7 MB/s eta 0:00:01\n",
      "   ---------------------------------------- 25.1/25.1 MB 6.6 MB/s eta 0:00:00\n",
      "Downloading PyYAML-6.0.2-cp312-cp312-win_amd64.whl (156 kB)\n",
      "   ---------------------------------------- 0.0/156.3 kB ? eta -:--:--\n",
      "   ---------------------------------------- 156.3/156.3 kB 4.7 MB/s eta 0:00:00\n",
      "Downloading regex-2024.11.6-cp312-cp312-win_amd64.whl (273 kB)\n",
      "   ---------------------------------------- 0.0/273.6 kB ? eta -:--:--\n",
      "   ---------------------------------------- 273.6/273.6 kB 8.5 MB/s eta 0:00:00\n",
      "Downloading requests-2.32.3-py3-none-any.whl (64 kB)\n",
      "   ---------------------------------------- 0.0/64.9 kB ? eta -:--:--\n",
      "   ---------------------------------------- 64.9/64.9 kB 3.6 MB/s eta 0:00:00\n",
      "Downloading safetensors-0.4.5-cp312-none-win_amd64.whl (286 kB)\n",
      "   ---------------------------------------- 0.0/286.3 kB ? eta -:--:--\n",
      "   ------------------------------- -------- 225.3/286.3 kB 6.9 MB/s eta 0:00:01\n",
      "   ---------------------------------------- 286.3/286.3 kB 5.9 MB/s eta 0:00:00\n",
      "Downloading sentencepiece-0.2.0-cp312-cp312-win_amd64.whl (991 kB)\n",
      "   ---------------------------------------- 0.0/992.0 kB ? eta -:--:--\n",
      "   ------------- -------------------------- 327.7/992.0 kB 6.8 MB/s eta 0:00:01\n",
      "   ----------------------- ---------------- 583.7/992.0 kB 6.1 MB/s eta 0:00:01\n",
      "   ------------------------------------ --- 901.1/992.0 kB 6.3 MB/s eta 0:00:01\n",
      "   ---------------------------------------- 992.0/992.0 kB 6.3 MB/s eta 0:00:00\n",
      "Downloading tokenizers-0.20.3-cp312-none-win_amd64.whl (2.4 MB)\n",
      "   ---------------------------------------- 0.0/2.4 MB ? eta -:--:--\n",
      "   ---- ----------------------------------- 0.3/2.4 MB 8.6 MB/s eta 0:00:01\n",
      "   ---------- ----------------------------- 0.6/2.4 MB 6.3 MB/s eta 0:00:01\n",
      "   -------------- ------------------------- 0.9/2.4 MB 6.0 MB/s eta 0:00:01\n",
      "   ------------------ --------------------- 1.1/2.4 MB 5.8 MB/s eta 0:00:01\n",
      "   ----------------------- ---------------- 1.4/2.4 MB 5.9 MB/s eta 0:00:01\n",
      "   -------------------------- ------------- 1.6/2.4 MB 5.6 MB/s eta 0:00:01\n",
      "   -------------------------------- ------- 1.9/2.4 MB 5.8 MB/s eta 0:00:01\n",
      "   ------------------------------------ --- 2.2/2.4 MB 5.8 MB/s eta 0:00:01\n",
      "   ---------------------------------------- 2.4/2.4 MB 5.8 MB/s eta 0:00:00\n",
      "Downloading tqdm-4.67.1-py3-none-any.whl (78 kB)\n",
      "   ---------------------------------------- 0.0/78.5 kB ? eta -:--:--\n",
      "   ---------------------------------------- 78.5/78.5 kB 4.3 MB/s eta 0:00:00\n",
      "Downloading filelock-3.16.1-py3-none-any.whl (16 kB)\n",
      "Downloading pandas-2.2.3-cp312-cp312-win_amd64.whl (11.5 MB)\n",
      "   ---------------------------------------- 0.0/11.5 MB ? eta -:--:--\n",
      "    --------------------------------------- 0.3/11.5 MB 5.7 MB/s eta 0:00:02\n",
      "   - -------------------------------------- 0.5/11.5 MB 6.3 MB/s eta 0:00:02\n",
      "   -- ------------------------------------- 0.8/11.5 MB 5.3 MB/s eta 0:00:03\n",
      "   --- ------------------------------------ 1.0/11.5 MB 5.6 MB/s eta 0:00:02\n",
      "   ---- ----------------------------------- 1.2/11.5 MB 5.6 MB/s eta 0:00:02\n",
      "   ----- ---------------------------------- 1.5/11.5 MB 5.7 MB/s eta 0:00:02\n",
      "   ------ --------------------------------- 1.8/11.5 MB 5.6 MB/s eta 0:00:02\n",
      "   ------- -------------------------------- 2.1/11.5 MB 5.7 MB/s eta 0:00:02\n",
      "   -------- ------------------------------- 2.3/11.5 MB 5.7 MB/s eta 0:00:02\n",
      "   --------- ------------------------------ 2.6/11.5 MB 5.7 MB/s eta 0:00:02\n",
      "   --------- ------------------------------ 2.8/11.5 MB 5.6 MB/s eta 0:00:02\n",
      "   ---------- ----------------------------- 3.0/11.5 MB 5.5 MB/s eta 0:00:02\n",
      "   ----------- ---------------------------- 3.3/11.5 MB 5.6 MB/s eta 0:00:02\n",
      "   ------------ --------------------------- 3.6/11.5 MB 5.6 MB/s eta 0:00:02\n",
      "   ------------- -------------------------- 3.9/11.5 MB 5.6 MB/s eta 0:00:02\n",
      "   -------------- ------------------------- 4.1/11.5 MB 5.6 MB/s eta 0:00:02\n",
      "   --------------- ------------------------ 4.3/11.5 MB 5.5 MB/s eta 0:00:02\n",
      "   ---------------- ----------------------- 4.7/11.5 MB 5.6 MB/s eta 0:00:02\n",
      "   ----------------- ---------------------- 4.9/11.5 MB 5.6 MB/s eta 0:00:02\n",
      "   ------------------ --------------------- 5.2/11.5 MB 5.6 MB/s eta 0:00:02\n",
      "   ------------------ --------------------- 5.4/11.5 MB 5.5 MB/s eta 0:00:02\n",
      "   ------------------- -------------------- 5.7/11.5 MB 5.6 MB/s eta 0:00:02\n",
      "   -------------------- ------------------- 5.9/11.5 MB 5.6 MB/s eta 0:00:01\n",
      "   --------------------- ------------------ 6.2/11.5 MB 5.6 MB/s eta 0:00:01\n",
      "   ---------------------- ----------------- 6.5/11.5 MB 5.6 MB/s eta 0:00:01\n",
      "   ----------------------- ---------------- 6.7/11.5 MB 5.6 MB/s eta 0:00:01\n",
      "   ------------------------ --------------- 7.0/11.5 MB 5.6 MB/s eta 0:00:01\n",
      "   ------------------------- -------------- 7.2/11.5 MB 5.6 MB/s eta 0:00:01\n",
      "   ------------------------- -------------- 7.4/11.5 MB 5.5 MB/s eta 0:00:01\n",
      "   -------------------------- ------------- 7.7/11.5 MB 5.5 MB/s eta 0:00:01\n",
      "   --------------------------- ------------ 8.0/11.5 MB 5.5 MB/s eta 0:00:01\n",
      "   ---------------------------- ----------- 8.2/11.5 MB 5.6 MB/s eta 0:00:01\n",
      "   ----------------------------- ---------- 8.5/11.5 MB 5.6 MB/s eta 0:00:01\n",
      "   ------------------------------ --------- 8.8/11.5 MB 5.6 MB/s eta 0:00:01\n",
      "   ------------------------------- -------- 9.1/11.5 MB 5.6 MB/s eta 0:00:01\n",
      "   -------------------------------- ------- 9.3/11.5 MB 5.6 MB/s eta 0:00:01\n",
      "   --------------------------------- ------ 9.6/11.5 MB 5.6 MB/s eta 0:00:01\n",
      "   ---------------------------------- ----- 9.8/11.5 MB 5.6 MB/s eta 0:00:01\n",
      "   ----------------------------------- ---- 10.1/11.5 MB 5.6 MB/s eta 0:00:01\n",
      "   ------------------------------------ --- 10.4/11.5 MB 5.6 MB/s eta 0:00:01\n",
      "   ------------------------------------- -- 10.7/11.5 MB 5.6 MB/s eta 0:00:01\n",
      "   ------------------------------------- -- 10.9/11.5 MB 5.6 MB/s eta 0:00:01\n",
      "   -------------------------------------- - 11.0/11.5 MB 5.6 MB/s eta 0:00:01\n",
      "   ---------------------------------------  11.4/11.5 MB 5.6 MB/s eta 0:00:01\n",
      "   ---------------------------------------- 11.5/11.5 MB 5.5 MB/s eta 0:00:00\n",
      "Downloading protobuf-5.29.1-cp310-abi3-win_amd64.whl (434 kB)\n",
      "   ---------------------------------------- 0.0/434.5 kB ? eta -:--:--\n",
      "   --------------------- ------------------ 235.5/434.5 kB 7.3 MB/s eta 0:00:01\n",
      "   ---------------------------------------- 434.5/434.5 kB 6.7 MB/s eta 0:00:00\n",
      "Downloading transformers-4.46.3-py3-none-any.whl (10.0 MB)\n",
      "   ---------------------------------------- 0.0/10.0 MB ? eta -:--:--\n",
      "   - -------------------------------------- 0.3/10.0 MB 6.5 MB/s eta 0:00:02\n",
      "   -- ------------------------------------- 0.7/10.0 MB 7.3 MB/s eta 0:00:02\n",
      "   --- ------------------------------------ 0.9/10.0 MB 6.6 MB/s eta 0:00:02\n",
      "   ----- ---------------------------------- 1.3/10.0 MB 6.9 MB/s eta 0:00:02\n",
      "   ------ --------------------------------- 1.6/10.0 MB 6.8 MB/s eta 0:00:02\n",
      "   ------- -------------------------------- 1.9/10.0 MB 6.9 MB/s eta 0:00:02\n",
      "   --------- ------------------------------ 2.3/10.0 MB 7.0 MB/s eta 0:00:02\n",
      "   ---------- ----------------------------- 2.6/10.0 MB 6.8 MB/s eta 0:00:02\n",
      "   ----------- ---------------------------- 2.9/10.0 MB 6.8 MB/s eta 0:00:02\n",
      "   ------------ --------------------------- 3.2/10.0 MB 6.8 MB/s eta 0:00:02\n",
      "   -------------- ------------------------- 3.6/10.0 MB 7.1 MB/s eta 0:00:01\n",
      "   --------------- ------------------------ 3.9/10.0 MB 6.9 MB/s eta 0:00:01\n",
      "   ---------------- ----------------------- 4.2/10.0 MB 7.0 MB/s eta 0:00:01\n",
      "   ----------------- ---------------------- 4.3/10.0 MB 6.9 MB/s eta 0:00:01\n",
      "   ----------------- ---------------------- 4.3/10.0 MB 6.9 MB/s eta 0:00:01\n",
      "   ----------------- ---------------------- 4.3/10.0 MB 6.9 MB/s eta 0:00:01\n",
      "   ----------------- ---------------------- 4.3/10.0 MB 6.9 MB/s eta 0:00:01\n",
      "   ------------------- -------------------- 4.9/10.0 MB 5.9 MB/s eta 0:00:01\n",
      "   -------------------- ------------------- 5.1/10.0 MB 5.7 MB/s eta 0:00:01\n",
      "   --------------------- ------------------ 5.5/10.0 MB 5.9 MB/s eta 0:00:01\n",
      "   ----------------------- ---------------- 5.8/10.0 MB 6.0 MB/s eta 0:00:01\n",
      "   ------------------------ --------------- 6.1/10.0 MB 6.0 MB/s eta 0:00:01\n",
      "   ------------------------- -------------- 6.5/10.0 MB 6.1 MB/s eta 0:00:01\n",
      "   --------------------------- ------------ 6.8/10.0 MB 6.1 MB/s eta 0:00:01\n",
      "   ---------------------------- ----------- 7.2/10.0 MB 6.2 MB/s eta 0:00:01\n",
      "   ----------------------------- ---------- 7.5/10.0 MB 6.2 MB/s eta 0:00:01\n",
      "   ------------------------------- -------- 7.8/10.0 MB 6.2 MB/s eta 0:00:01\n",
      "   -------------------------------- ------- 8.2/10.0 MB 6.3 MB/s eta 0:00:01\n",
      "   --------------------------------- ------ 8.5/10.0 MB 6.3 MB/s eta 0:00:01\n",
      "   ----------------------------------- ---- 8.8/10.0 MB 6.3 MB/s eta 0:00:01\n",
      "   ------------------------------------ --- 9.1/10.0 MB 6.3 MB/s eta 0:00:01\n",
      "   ------------------------------------- -- 9.5/10.0 MB 6.4 MB/s eta 0:00:01\n",
      "   -------------------------------------- - 9.8/10.0 MB 6.4 MB/s eta 0:00:01\n",
      "   ---------------------------------------  10.0/10.0 MB 6.4 MB/s eta 0:00:01\n",
      "   ---------------------------------------- 10.0/10.0 MB 6.3 MB/s eta 0:00:00\n",
      "Downloading xxhash-3.5.0-cp312-cp312-win_amd64.whl (30 kB)\n",
      "Downloading aiohappyeyeballs-2.4.4-py3-none-any.whl (14 kB)\n",
      "Using cached aiosignal-1.3.1-py3-none-any.whl (7.6 kB)\n",
      "Downloading attrs-24.2.0-py3-none-any.whl (63 kB)\n",
      "   ---------------------------------------- 0.0/63.0 kB ? eta -:--:--\n",
      "   ---------------------------------------- 63.0/63.0 kB 3.5 MB/s eta 0:00:00\n",
      "Downloading certifi-2024.8.30-py3-none-any.whl (167 kB)\n",
      "   ---------------------------------------- 0.0/167.3 kB ? eta -:--:--\n",
      "   ---------------------------------------- 167.3/167.3 kB 9.8 MB/s eta 0:00:00\n",
      "Downloading charset_normalizer-3.4.0-cp312-cp312-win_amd64.whl (102 kB)\n",
      "   ---------------------------------------- 0.0/102.2 kB ? eta -:--:--\n",
      "   ---------------------------------------- 102.2/102.2 kB 5.7 MB/s eta 0:00:00\n",
      "Downloading frozenlist-1.5.0-cp312-cp312-win_amd64.whl (51 kB)\n",
      "   ---------------------------------------- 0.0/51.3 kB ? eta -:--:--\n",
      "   ---------------------------------------- 51.3/51.3 kB ? eta 0:00:00\n",
      "Downloading fsspec-2024.9.0-py3-none-any.whl (179 kB)\n",
      "   ---------------------------------------- 0.0/179.3 kB ? eta -:--:--\n",
      "   --------------------------------------- 179.3/179.3 kB 11.3 MB/s eta 0:00:00\n",
      "Downloading idna-3.10-py3-none-any.whl (70 kB)\n",
      "   ---------------------------------------- 0.0/70.4 kB ? eta -:--:--\n",
      "   ---------------------------------------- 70.4/70.4 kB 3.8 MB/s eta 0:00:00\n",
      "Downloading multidict-6.1.0-cp312-cp312-win_amd64.whl (28 kB)\n",
      "Downloading propcache-0.2.1-cp312-cp312-win_amd64.whl (44 kB)\n",
      "   ---------------------------------------- 0.0/44.1 kB ? eta -:--:--\n",
      "   ---------------------------------------- 44.1/44.1 kB ? eta 0:00:00\n",
      "Downloading python_dateutil-2.9.0.post0-py2.py3-none-any.whl (229 kB)\n",
      "   ---------------------------------------- 0.0/229.9 kB ? eta -:--:--\n",
      "   --------------------------------------- 229.9/229.9 kB 13.7 MB/s eta 0:00:00\n",
      "Downloading pytz-2024.2-py2.py3-none-any.whl (508 kB)\n",
      "   ---------------------------------------- 0.0/508.0 kB ? eta -:--:--\n",
      "   --------------------------- ----------- 358.4/508.0 kB 10.9 MB/s eta 0:00:01\n",
      "   ---------------------------------------- 508.0/508.0 kB 7.9 MB/s eta 0:00:00\n",
      "Downloading typing_extensions-4.12.2-py3-none-any.whl (37 kB)\n",
      "Downloading tzdata-2024.2-py2.py3-none-any.whl (346 kB)\n",
      "   ---------------------------------------- 0.0/346.6 kB ? eta -:--:--\n",
      "   ----------------------------- ---------- 256.0/346.6 kB 7.9 MB/s eta 0:00:01\n",
      "   ---------------------------------------- 346.6/346.6 kB 7.2 MB/s eta 0:00:00\n",
      "Downloading urllib3-2.2.3-py3-none-any.whl (126 kB)\n",
      "   ---------------------------------------- 0.0/126.3 kB ? eta -:--:--\n",
      "   ---------------------------------------- 126.3/126.3 kB 7.7 MB/s eta 0:00:00\n",
      "Downloading yarl-1.18.3-cp312-cp312-win_amd64.whl (90 kB)\n",
      "   ---------------------------------------- 0.0/90.4 kB ? eta -:--:--\n",
      "   ---------------------------------------- 90.4/90.4 kB 5.0 MB/s eta 0:00:00\n",
      "Using cached colorama-0.4.6-py2.py3-none-any.whl (25 kB)\n",
      "Downloading six-1.17.0-py2.py3-none-any.whl (11 kB)\n",
      "Installing collected packages: sentencepiece, pytz, xxhash, urllib3, tzdata, typing-extensions, six, safetensors, regex, pyyaml, pyarrow, protobuf, propcache, packaging, numpy, multidict, idna, fsspec, frozenlist, filelock, dill, colorama, charset-normalizer, certifi, attrs, aiohappyeyeballs, yarl, tqdm, requests, python-dateutil, multiprocess, aiosignal, pandas, huggingface-hub, aiohttp, tokenizers, transformers, datasets, evaluate\n"
     ]
    },
    {
     "name": "stderr",
     "output_type": "stream",
     "text": [
      "  WARNING: Failed to write executable - trying to use .deleteme logic\n",
      "ERROR: Could not install packages due to an OSError: [WinError 2] 系统找不到指定的文件。: 'C:\\\\Python312\\\\Scripts\\\\f2py.exe' -> 'C:\\\\Python312\\\\Scripts\\\\f2py.exe.deleteme'\n",
      "\n",
      "\n",
      "[notice] A new release of pip is available: 23.2.1 -> 24.3.1\n",
      "[notice] To update, run: C:\\Python312\\python.exe -m pip install --upgrade pip\n"
     ]
    }
   ],
   "source": [
    "!pip install datasets evaluate transformers[sentencepiece]"
   ]
  },
  {
   "cell_type": "code",
   "execution_count": 1,
   "metadata": {},
   "outputs": [
    {
     "name": "stderr",
     "output_type": "stream",
     "text": [
      "No model was supplied, defaulted to distilbert/distilbert-base-uncased-finetuned-sst-2-english and revision 714eb0f (https://huggingface.co/distilbert/distilbert-base-uncased-finetuned-sst-2-english).\n",
      "Using a pipeline without specifying a model name and revision in production is not recommended.\n"
     ]
    },
    {
     "data": {
      "text/plain": [
       "[{'label': 'POSITIVE', 'score': 0.9598049521446228}]"
      ]
     },
     "execution_count": 1,
     "metadata": {},
     "output_type": "execute_result"
    }
   ],
   "source": [
    "from transformers import pipeline\n",
    "\n",
    "classifier = pipeline(\"sentiment-analysis\")\n",
    "classifier(\"I've been waiting for a HuggingFace course my whole life.\")"
   ]
  },
  {
   "cell_type": "code",
   "execution_count": 2,
   "metadata": {},
   "outputs": [
    {
     "data": {
      "text/plain": [
       "[{'label': 'POSITIVE', 'score': 0.9598049521446228},\n",
       " {'label': 'NEGATIVE', 'score': 0.9994558691978455}]"
      ]
     },
     "execution_count": 2,
     "metadata": {},
     "output_type": "execute_result"
    }
   ],
   "source": [
    "classifier(\n",
    "    [\"I've been waiting for a HuggingFace course my whole life.\", \"I hate this so much!\"]\n",
    ")"
   ]
  },
  {
   "cell_type": "code",
   "execution_count": 3,
   "metadata": {},
   "outputs": [
    {
     "name": "stderr",
     "output_type": "stream",
     "text": [
      "No model was supplied, defaulted to facebook/bart-large-mnli and revision d7645e1 (https://huggingface.co/facebook/bart-large-mnli).\n",
      "Using a pipeline without specifying a model name and revision in production is not recommended.\n"
     ]
    },
    {
     "data": {
      "application/vnd.jupyter.widget-view+json": {
       "model_id": "397de2734e5e428a8b62aeb89c4824ef",
       "version_major": 2,
       "version_minor": 0
      },
      "text/plain": [
       "model.safetensors:   3%|2         | 41.9M/1.63G [00:00<?, ?B/s]"
      ]
     },
     "metadata": {},
     "output_type": "display_data"
    },
    {
     "name": "stderr",
     "output_type": "stream",
     "text": [
      "c:\\Users\\Jiang\\anaconda3\\envs\\llm\\lib\\site-packages\\huggingface_hub\\file_download.py:139: UserWarning: `huggingface_hub` cache-system uses symlinks by default to efficiently store duplicated files but your machine does not support them in C:\\Users\\Jiang\\.cache\\huggingface\\hub\\models--facebook--bart-large-mnli. Caching files will still work but in a degraded version that might require more space on your disk. This warning can be disabled by setting the `HF_HUB_DISABLE_SYMLINKS_WARNING` environment variable. For more details, see https://huggingface.co/docs/huggingface_hub/how-to-cache#limitations.\n",
      "To support symlinks on Windows, you either need to activate Developer Mode or to run Python as an administrator. In order to activate developer mode, see this article: https://docs.microsoft.com/en-us/windows/apps/get-started/enable-your-device-for-development\n",
      "  warnings.warn(message)\n"
     ]
    },
    {
     "data": {
      "application/vnd.jupyter.widget-view+json": {
       "model_id": "eb763e3870454855a0d381693aa6dbf8",
       "version_major": 2,
       "version_minor": 0
      },
      "text/plain": [
       "tokenizer_config.json:   0%|          | 0.00/26.0 [00:00<?, ?B/s]"
      ]
     },
     "metadata": {},
     "output_type": "display_data"
    },
    {
     "data": {
      "application/vnd.jupyter.widget-view+json": {
       "model_id": "50c32cbae89f4339898bd00e95f24112",
       "version_major": 2,
       "version_minor": 0
      },
      "text/plain": [
       "vocab.json:   0%|          | 0.00/899k [00:00<?, ?B/s]"
      ]
     },
     "metadata": {},
     "output_type": "display_data"
    },
    {
     "data": {
      "application/vnd.jupyter.widget-view+json": {
       "model_id": "59732fbdf16448ec89de4cccad03bead",
       "version_major": 2,
       "version_minor": 0
      },
      "text/plain": [
       "merges.txt:   0%|          | 0.00/456k [00:00<?, ?B/s]"
      ]
     },
     "metadata": {},
     "output_type": "display_data"
    },
    {
     "data": {
      "application/vnd.jupyter.widget-view+json": {
       "model_id": "615cd3c274de48a2bd6fbb6d74160d14",
       "version_major": 2,
       "version_minor": 0
      },
      "text/plain": [
       "tokenizer.json:   0%|          | 0.00/1.36M [00:00<?, ?B/s]"
      ]
     },
     "metadata": {},
     "output_type": "display_data"
    },
    {
     "data": {
      "text/plain": [
       "{'sequence': 'This is a course about the Transformers library',\n",
       " 'labels': ['education', 'business', 'politics'],\n",
       " 'scores': [0.8445982933044434, 0.11197470128536224, 0.04342701658606529]}"
      ]
     },
     "execution_count": 3,
     "metadata": {},
     "output_type": "execute_result"
    }
   ],
   "source": [
    "from transformers import pipeline\n",
    "\n",
    "classifier = pipeline(\"zero-shot-classification\")\n",
    "classifier(\n",
    "    \"This is a course about the Transformers library\",\n",
    "    candidate_labels=[\"education\", \"politics\", \"business\"],\n",
    ")"
   ]
  },
  {
   "cell_type": "code",
   "execution_count": 4,
   "metadata": {},
   "outputs": [
    {
     "name": "stderr",
     "output_type": "stream",
     "text": [
      "No model was supplied, defaulted to openai-community/gpt2 and revision 607a30d (https://huggingface.co/openai-community/gpt2).\n",
      "Using a pipeline without specifying a model name and revision in production is not recommended.\n"
     ]
    },
    {
     "data": {
      "application/vnd.jupyter.widget-view+json": {
       "model_id": "3f223333cfff4161b97ea76c942e860b",
       "version_major": 2,
       "version_minor": 0
      },
      "text/plain": [
       "config.json:   0%|          | 0.00/665 [00:00<?, ?B/s]"
      ]
     },
     "metadata": {},
     "output_type": "display_data"
    },
    {
     "name": "stderr",
     "output_type": "stream",
     "text": [
      "c:\\Users\\Jiang\\anaconda3\\envs\\llm\\lib\\site-packages\\huggingface_hub\\file_download.py:139: UserWarning: `huggingface_hub` cache-system uses symlinks by default to efficiently store duplicated files but your machine does not support them in C:\\Users\\Jiang\\.cache\\huggingface\\hub\\models--openai-community--gpt2. Caching files will still work but in a degraded version that might require more space on your disk. This warning can be disabled by setting the `HF_HUB_DISABLE_SYMLINKS_WARNING` environment variable. For more details, see https://huggingface.co/docs/huggingface_hub/how-to-cache#limitations.\n",
      "To support symlinks on Windows, you either need to activate Developer Mode or to run Python as an administrator. In order to activate developer mode, see this article: https://docs.microsoft.com/en-us/windows/apps/get-started/enable-your-device-for-development\n",
      "  warnings.warn(message)\n"
     ]
    },
    {
     "data": {
      "application/vnd.jupyter.widget-view+json": {
       "model_id": "be7db88b97734515bb4de91ef5ec1498",
       "version_major": 2,
       "version_minor": 0
      },
      "text/plain": [
       "model.safetensors:   0%|          | 0.00/548M [00:00<?, ?B/s]"
      ]
     },
     "metadata": {},
     "output_type": "display_data"
    },
    {
     "data": {
      "application/vnd.jupyter.widget-view+json": {
       "model_id": "0731824e9b37407b9313848b7a101886",
       "version_major": 2,
       "version_minor": 0
      },
      "text/plain": [
       "generation_config.json:   0%|          | 0.00/124 [00:00<?, ?B/s]"
      ]
     },
     "metadata": {},
     "output_type": "display_data"
    },
    {
     "data": {
      "application/vnd.jupyter.widget-view+json": {
       "model_id": "1e9258ad42c242848b417791f7cf522f",
       "version_major": 2,
       "version_minor": 0
      },
      "text/plain": [
       "tokenizer_config.json:   0%|          | 0.00/26.0 [00:00<?, ?B/s]"
      ]
     },
     "metadata": {},
     "output_type": "display_data"
    },
    {
     "data": {
      "application/vnd.jupyter.widget-view+json": {
       "model_id": "8b1f89e391034f5f8d6f7bcffa328713",
       "version_major": 2,
       "version_minor": 0
      },
      "text/plain": [
       "vocab.json:   0%|          | 0.00/1.04M [00:00<?, ?B/s]"
      ]
     },
     "metadata": {},
     "output_type": "display_data"
    },
    {
     "data": {
      "application/vnd.jupyter.widget-view+json": {
       "model_id": "c223754cdea24cfe8884c9c125ef3eb8",
       "version_major": 2,
       "version_minor": 0
      },
      "text/plain": [
       "merges.txt:   0%|          | 0.00/456k [00:00<?, ?B/s]"
      ]
     },
     "metadata": {},
     "output_type": "display_data"
    },
    {
     "data": {
      "application/vnd.jupyter.widget-view+json": {
       "model_id": "57cb4989b640435b8118094686cbe4f4",
       "version_major": 2,
       "version_minor": 0
      },
      "text/plain": [
       "tokenizer.json:   0%|          | 0.00/1.36M [00:00<?, ?B/s]"
      ]
     },
     "metadata": {},
     "output_type": "display_data"
    },
    {
     "name": "stderr",
     "output_type": "stream",
     "text": [
      "Setting `pad_token_id` to `eos_token_id`:None for open-end generation.\n"
     ]
    },
    {
     "data": {
      "text/plain": [
       "[{'generated_text': 'In this course, we will teach you how to build robust, dynamic and scalable user experience on Android.\\n\\nLearn about how to start on Android and the challenges you face in managing it successfully with Android.'}]"
      ]
     },
     "execution_count": 4,
     "metadata": {},
     "output_type": "execute_result"
    }
   ],
   "source": [
    "from transformers import pipeline\n",
    "\n",
    "generator = pipeline(\"text-generation\")\n",
    "generator(\"In this course, we will teach you how to\")"
   ]
  },
  {
   "cell_type": "code",
   "execution_count": 5,
   "metadata": {},
   "outputs": [
    {
     "data": {
      "application/vnd.jupyter.widget-view+json": {
       "model_id": "0fcdd9f0f11c4ee68e97d3d1c838f66b",
       "version_major": 2,
       "version_minor": 0
      },
      "text/plain": [
       "config.json:   0%|          | 0.00/762 [00:00<?, ?B/s]"
      ]
     },
     "metadata": {},
     "output_type": "display_data"
    },
    {
     "name": "stderr",
     "output_type": "stream",
     "text": [
      "c:\\Users\\Jiang\\anaconda3\\envs\\llm\\lib\\site-packages\\huggingface_hub\\file_download.py:139: UserWarning: `huggingface_hub` cache-system uses symlinks by default to efficiently store duplicated files but your machine does not support them in C:\\Users\\Jiang\\.cache\\huggingface\\hub\\models--distilgpt2. Caching files will still work but in a degraded version that might require more space on your disk. This warning can be disabled by setting the `HF_HUB_DISABLE_SYMLINKS_WARNING` environment variable. For more details, see https://huggingface.co/docs/huggingface_hub/how-to-cache#limitations.\n",
      "To support symlinks on Windows, you either need to activate Developer Mode or to run Python as an administrator. In order to activate developer mode, see this article: https://docs.microsoft.com/en-us/windows/apps/get-started/enable-your-device-for-development\n",
      "  warnings.warn(message)\n"
     ]
    },
    {
     "data": {
      "application/vnd.jupyter.widget-view+json": {
       "model_id": "7a49777be8704004b5115de29fddd361",
       "version_major": 2,
       "version_minor": 0
      },
      "text/plain": [
       "model.safetensors:   0%|          | 0.00/353M [00:00<?, ?B/s]"
      ]
     },
     "metadata": {},
     "output_type": "display_data"
    },
    {
     "data": {
      "application/vnd.jupyter.widget-view+json": {
       "model_id": "27f889c2b9774f20aa8a32e0c989b3bd",
       "version_major": 2,
       "version_minor": 0
      },
      "text/plain": [
       "generation_config.json:   0%|          | 0.00/124 [00:00<?, ?B/s]"
      ]
     },
     "metadata": {},
     "output_type": "display_data"
    },
    {
     "data": {
      "application/vnd.jupyter.widget-view+json": {
       "model_id": "113460376ede4fbc8f53da1ec66e2d78",
       "version_major": 2,
       "version_minor": 0
      },
      "text/plain": [
       "tokenizer_config.json:   0%|          | 0.00/26.0 [00:00<?, ?B/s]"
      ]
     },
     "metadata": {},
     "output_type": "display_data"
    },
    {
     "data": {
      "application/vnd.jupyter.widget-view+json": {
       "model_id": "1fad127a29534423bfdaa8b97b8fbe27",
       "version_major": 2,
       "version_minor": 0
      },
      "text/plain": [
       "vocab.json:   0%|          | 0.00/1.04M [00:00<?, ?B/s]"
      ]
     },
     "metadata": {},
     "output_type": "display_data"
    },
    {
     "data": {
      "application/vnd.jupyter.widget-view+json": {
       "model_id": "7ff5c158cb1642e2b6d9f05826a2b140",
       "version_major": 2,
       "version_minor": 0
      },
      "text/plain": [
       "merges.txt:   0%|          | 0.00/456k [00:00<?, ?B/s]"
      ]
     },
     "metadata": {},
     "output_type": "display_data"
    },
    {
     "data": {
      "application/vnd.jupyter.widget-view+json": {
       "model_id": "ebfe63560d6f4224a509e30a287e5653",
       "version_major": 2,
       "version_minor": 0
      },
      "text/plain": [
       "tokenizer.json:   0%|          | 0.00/1.36M [00:00<?, ?B/s]"
      ]
     },
     "metadata": {},
     "output_type": "display_data"
    },
    {
     "name": "stderr",
     "output_type": "stream",
     "text": [
      "Truncation was not explicitly activated but `max_length` is provided a specific value, please use `truncation=True` to explicitly truncate examples to max length. Defaulting to 'longest_first' truncation strategy. If you encode pairs of sequences (GLUE-style) with the tokenizer you can select this strategy more precisely by providing a specific strategy to `truncation`.\n",
      "Setting `pad_token_id` to `eos_token_id`:None for open-end generation.\n"
     ]
    },
    {
     "data": {
      "text/plain": [
       "[{'generated_text': 'In this course, we will teach you how to use a computer to generate a file that I’ve written for your site, what are you'},\n",
       " {'generated_text': 'In this course, we will teach you how to apply the new technologies at your own discretion and from a single viewpoint. This course will teach everyone how'}]"
      ]
     },
     "execution_count": 5,
     "metadata": {},
     "output_type": "execute_result"
    }
   ],
   "source": [
    "from transformers import pipeline\n",
    "\n",
    "generator = pipeline(\"text-generation\", model=\"distilgpt2\")\n",
    "generator(\n",
    "    \"In this course, we will teach you how to\",\n",
    "    max_length=30,\n",
    "    num_return_sequences=2,\n",
    ")"
   ]
  },
  {
   "cell_type": "code",
   "execution_count": 6,
   "metadata": {},
   "outputs": [
    {
     "name": "stderr",
     "output_type": "stream",
     "text": [
      "No model was supplied, defaulted to distilbert/distilroberta-base and revision fb53ab8 (https://huggingface.co/distilbert/distilroberta-base).\n",
      "Using a pipeline without specifying a model name and revision in production is not recommended.\n"
     ]
    },
    {
     "data": {
      "application/vnd.jupyter.widget-view+json": {
       "model_id": "2af2b5931ae74f19ae699f525e4ec0b4",
       "version_major": 2,
       "version_minor": 0
      },
      "text/plain": [
       "config.json:   0%|          | 0.00/480 [00:00<?, ?B/s]"
      ]
     },
     "metadata": {},
     "output_type": "display_data"
    },
    {
     "name": "stderr",
     "output_type": "stream",
     "text": [
      "c:\\Users\\Jiang\\anaconda3\\envs\\llm\\lib\\site-packages\\huggingface_hub\\file_download.py:139: UserWarning: `huggingface_hub` cache-system uses symlinks by default to efficiently store duplicated files but your machine does not support them in C:\\Users\\Jiang\\.cache\\huggingface\\hub\\models--distilbert--distilroberta-base. Caching files will still work but in a degraded version that might require more space on your disk. This warning can be disabled by setting the `HF_HUB_DISABLE_SYMLINKS_WARNING` environment variable. For more details, see https://huggingface.co/docs/huggingface_hub/how-to-cache#limitations.\n",
      "To support symlinks on Windows, you either need to activate Developer Mode or to run Python as an administrator. In order to activate developer mode, see this article: https://docs.microsoft.com/en-us/windows/apps/get-started/enable-your-device-for-development\n",
      "  warnings.warn(message)\n"
     ]
    },
    {
     "data": {
      "application/vnd.jupyter.widget-view+json": {
       "model_id": "318e4ab69b2240dd8e1806d9e24742f9",
       "version_major": 2,
       "version_minor": 0
      },
      "text/plain": [
       "model.safetensors:   0%|          | 0.00/331M [00:00<?, ?B/s]"
      ]
     },
     "metadata": {},
     "output_type": "display_data"
    },
    {
     "name": "stderr",
     "output_type": "stream",
     "text": [
      "Some weights of the model checkpoint at distilbert/distilroberta-base were not used when initializing RobertaForMaskedLM: ['roberta.pooler.dense.bias', 'roberta.pooler.dense.weight']\n",
      "- This IS expected if you are initializing RobertaForMaskedLM from the checkpoint of a model trained on another task or with another architecture (e.g. initializing a BertForSequenceClassification model from a BertForPreTraining model).\n",
      "- This IS NOT expected if you are initializing RobertaForMaskedLM from the checkpoint of a model that you expect to be exactly identical (initializing a BertForSequenceClassification model from a BertForSequenceClassification model).\n"
     ]
    },
    {
     "data": {
      "application/vnd.jupyter.widget-view+json": {
       "model_id": "74d768057cba4244b56f11322bd5c5d5",
       "version_major": 2,
       "version_minor": 0
      },
      "text/plain": [
       "tokenizer_config.json:   0%|          | 0.00/25.0 [00:00<?, ?B/s]"
      ]
     },
     "metadata": {},
     "output_type": "display_data"
    },
    {
     "data": {
      "application/vnd.jupyter.widget-view+json": {
       "model_id": "938a618dfc3e4f11928f281bbbaee222",
       "version_major": 2,
       "version_minor": 0
      },
      "text/plain": [
       "vocab.json:   0%|          | 0.00/899k [00:00<?, ?B/s]"
      ]
     },
     "metadata": {},
     "output_type": "display_data"
    },
    {
     "data": {
      "application/vnd.jupyter.widget-view+json": {
       "model_id": "d2c943b595d945f8a7e4a9d8728b6fc3",
       "version_major": 2,
       "version_minor": 0
      },
      "text/plain": [
       "merges.txt:   0%|          | 0.00/456k [00:00<?, ?B/s]"
      ]
     },
     "metadata": {},
     "output_type": "display_data"
    },
    {
     "data": {
      "application/vnd.jupyter.widget-view+json": {
       "model_id": "8e12642c8bd74f3daa1afd3ee66f0dbf",
       "version_major": 2,
       "version_minor": 0
      },
      "text/plain": [
       "tokenizer.json:   0%|          | 0.00/1.36M [00:00<?, ?B/s]"
      ]
     },
     "metadata": {},
     "output_type": "display_data"
    },
    {
     "data": {
      "text/plain": [
       "[{'score': 0.19198477268218994,\n",
       "  'token': 30412,\n",
       "  'token_str': ' mathematical',\n",
       "  'sequence': 'This course will teach you all about mathematical models.'},\n",
       " {'score': 0.04209217056632042,\n",
       "  'token': 38163,\n",
       "  'token_str': ' computational',\n",
       "  'sequence': 'This course will teach you all about computational models.'}]"
      ]
     },
     "execution_count": 6,
     "metadata": {},
     "output_type": "execute_result"
    }
   ],
   "source": [
    "from transformers import pipeline\n",
    "\n",
    "unmasker = pipeline(\"fill-mask\")\n",
    "unmasker(\"This course will teach you all about <mask> models.\", top_k=2)"
   ]
  },
  {
   "cell_type": "code",
   "execution_count": 7,
   "metadata": {},
   "outputs": [
    {
     "name": "stderr",
     "output_type": "stream",
     "text": [
      "No model was supplied, defaulted to dbmdz/bert-large-cased-finetuned-conll03-english and revision 4c53496 (https://huggingface.co/dbmdz/bert-large-cased-finetuned-conll03-english).\n",
      "Using a pipeline without specifying a model name and revision in production is not recommended.\n"
     ]
    },
    {
     "data": {
      "application/vnd.jupyter.widget-view+json": {
       "model_id": "0324d68385af43e9aa2077a30358a4ed",
       "version_major": 2,
       "version_minor": 0
      },
      "text/plain": [
       "config.json:   0%|          | 0.00/998 [00:00<?, ?B/s]"
      ]
     },
     "metadata": {},
     "output_type": "display_data"
    },
    {
     "name": "stderr",
     "output_type": "stream",
     "text": [
      "c:\\Users\\Jiang\\anaconda3\\envs\\llm\\lib\\site-packages\\huggingface_hub\\file_download.py:139: UserWarning: `huggingface_hub` cache-system uses symlinks by default to efficiently store duplicated files but your machine does not support them in C:\\Users\\Jiang\\.cache\\huggingface\\hub\\models--dbmdz--bert-large-cased-finetuned-conll03-english. Caching files will still work but in a degraded version that might require more space on your disk. This warning can be disabled by setting the `HF_HUB_DISABLE_SYMLINKS_WARNING` environment variable. For more details, see https://huggingface.co/docs/huggingface_hub/how-to-cache#limitations.\n",
      "To support symlinks on Windows, you either need to activate Developer Mode or to run Python as an administrator. In order to activate developer mode, see this article: https://docs.microsoft.com/en-us/windows/apps/get-started/enable-your-device-for-development\n",
      "  warnings.warn(message)\n"
     ]
    },
    {
     "data": {
      "application/vnd.jupyter.widget-view+json": {
       "model_id": "5bc6d85ee723453eb895d10dd007e007",
       "version_major": 2,
       "version_minor": 0
      },
      "text/plain": [
       "model.safetensors:   0%|          | 0.00/1.33G [00:00<?, ?B/s]"
      ]
     },
     "metadata": {},
     "output_type": "display_data"
    },
    {
     "name": "stderr",
     "output_type": "stream",
     "text": [
      "Some weights of the model checkpoint at dbmdz/bert-large-cased-finetuned-conll03-english were not used when initializing BertForTokenClassification: ['bert.pooler.dense.bias', 'bert.pooler.dense.weight']\n",
      "- This IS expected if you are initializing BertForTokenClassification from the checkpoint of a model trained on another task or with another architecture (e.g. initializing a BertForSequenceClassification model from a BertForPreTraining model).\n",
      "- This IS NOT expected if you are initializing BertForTokenClassification from the checkpoint of a model that you expect to be exactly identical (initializing a BertForSequenceClassification model from a BertForSequenceClassification model).\n"
     ]
    },
    {
     "data": {
      "application/vnd.jupyter.widget-view+json": {
       "model_id": "422e8f5e9aab47859d1b11d9ceb06816",
       "version_major": 2,
       "version_minor": 0
      },
      "text/plain": [
       "tokenizer_config.json:   0%|          | 0.00/60.0 [00:00<?, ?B/s]"
      ]
     },
     "metadata": {},
     "output_type": "display_data"
    },
    {
     "data": {
      "application/vnd.jupyter.widget-view+json": {
       "model_id": "a9c222fd62a54e7f86abb45251dde819",
       "version_major": 2,
       "version_minor": 0
      },
      "text/plain": [
       "vocab.txt:   0%|          | 0.00/213k [00:00<?, ?B/s]"
      ]
     },
     "metadata": {},
     "output_type": "display_data"
    },
    {
     "name": "stderr",
     "output_type": "stream",
     "text": [
      "c:\\Users\\Jiang\\anaconda3\\envs\\llm\\lib\\site-packages\\transformers\\pipelines\\token_classification.py:170: UserWarning: `grouped_entities` is deprecated and will be removed in version v5.0.0, defaulted to `aggregation_strategy=\"simple\"` instead.\n",
      "  warnings.warn(\n"
     ]
    },
    {
     "data": {
      "text/plain": [
       "[{'entity_group': 'PER',\n",
       "  'score': np.float32(0.9981694),\n",
       "  'word': 'Sylvain',\n",
       "  'start': 11,\n",
       "  'end': 18},\n",
       " {'entity_group': 'ORG',\n",
       "  'score': np.float32(0.9796019),\n",
       "  'word': 'Hugging Face',\n",
       "  'start': 33,\n",
       "  'end': 45},\n",
       " {'entity_group': 'LOC',\n",
       "  'score': np.float32(0.9932106),\n",
       "  'word': 'Brooklyn',\n",
       "  'start': 49,\n",
       "  'end': 57}]"
      ]
     },
     "execution_count": 7,
     "metadata": {},
     "output_type": "execute_result"
    }
   ],
   "source": [
    "from transformers import pipeline\n",
    "\n",
    "ner = pipeline(\"ner\", grouped_entities=True)\n",
    "ner(\"My name is Sylvain and I work at Hugging Face in Brooklyn.\")"
   ]
  },
  {
   "cell_type": "code",
   "execution_count": 8,
   "metadata": {},
   "outputs": [
    {
     "name": "stderr",
     "output_type": "stream",
     "text": [
      "No model was supplied, defaulted to distilbert/distilbert-base-cased-distilled-squad and revision 564e9b5 (https://huggingface.co/distilbert/distilbert-base-cased-distilled-squad).\n",
      "Using a pipeline without specifying a model name and revision in production is not recommended.\n"
     ]
    },
    {
     "data": {
      "application/vnd.jupyter.widget-view+json": {
       "model_id": "f0d5223a22ed4e8993c779decdcd0713",
       "version_major": 2,
       "version_minor": 0
      },
      "text/plain": [
       "config.json:   0%|          | 0.00/473 [00:00<?, ?B/s]"
      ]
     },
     "metadata": {},
     "output_type": "display_data"
    },
    {
     "name": "stderr",
     "output_type": "stream",
     "text": [
      "c:\\Users\\Jiang\\anaconda3\\envs\\llm\\lib\\site-packages\\huggingface_hub\\file_download.py:139: UserWarning: `huggingface_hub` cache-system uses symlinks by default to efficiently store duplicated files but your machine does not support them in C:\\Users\\Jiang\\.cache\\huggingface\\hub\\models--distilbert--distilbert-base-cased-distilled-squad. Caching files will still work but in a degraded version that might require more space on your disk. This warning can be disabled by setting the `HF_HUB_DISABLE_SYMLINKS_WARNING` environment variable. For more details, see https://huggingface.co/docs/huggingface_hub/how-to-cache#limitations.\n",
      "To support symlinks on Windows, you either need to activate Developer Mode or to run Python as an administrator. In order to activate developer mode, see this article: https://docs.microsoft.com/en-us/windows/apps/get-started/enable-your-device-for-development\n",
      "  warnings.warn(message)\n"
     ]
    },
    {
     "data": {
      "application/vnd.jupyter.widget-view+json": {
       "model_id": "5c3a3b1c66714c54a81b37ca847b1cb0",
       "version_major": 2,
       "version_minor": 0
      },
      "text/plain": [
       "model.safetensors:   0%|          | 0.00/261M [00:00<?, ?B/s]"
      ]
     },
     "metadata": {},
     "output_type": "display_data"
    },
    {
     "data": {
      "application/vnd.jupyter.widget-view+json": {
       "model_id": "49590ba110b24250ad4dcafe68d0eb48",
       "version_major": 2,
       "version_minor": 0
      },
      "text/plain": [
       "tokenizer_config.json:   0%|          | 0.00/49.0 [00:00<?, ?B/s]"
      ]
     },
     "metadata": {},
     "output_type": "display_data"
    },
    {
     "data": {
      "application/vnd.jupyter.widget-view+json": {
       "model_id": "d280d838b3d94a5684607c3bc14c001b",
       "version_major": 2,
       "version_minor": 0
      },
      "text/plain": [
       "vocab.txt:   0%|          | 0.00/213k [00:00<?, ?B/s]"
      ]
     },
     "metadata": {},
     "output_type": "display_data"
    },
    {
     "data": {
      "application/vnd.jupyter.widget-view+json": {
       "model_id": "21ef405fb4ca45688bf65aa22a4adee1",
       "version_major": 2,
       "version_minor": 0
      },
      "text/plain": [
       "tokenizer.json:   0%|          | 0.00/436k [00:00<?, ?B/s]"
      ]
     },
     "metadata": {},
     "output_type": "display_data"
    },
    {
     "data": {
      "text/plain": [
       "{'score': 0.6949770450592041, 'start': 33, 'end': 45, 'answer': 'Hugging Face'}"
      ]
     },
     "execution_count": 8,
     "metadata": {},
     "output_type": "execute_result"
    }
   ],
   "source": [
    "from transformers import pipeline\n",
    "\n",
    "question_answerer = pipeline(\"question-answering\")\n",
    "question_answerer(\n",
    "    question=\"Where do I work?\",\n",
    "    context=\"My name is Sylvain and I work at Hugging Face in Brooklyn\",\n",
    ")"
   ]
  },
  {
   "cell_type": "code",
   "execution_count": 9,
   "metadata": {},
   "outputs": [
    {
     "name": "stderr",
     "output_type": "stream",
     "text": [
      "No model was supplied, defaulted to sshleifer/distilbart-cnn-12-6 and revision a4f8f3e (https://huggingface.co/sshleifer/distilbart-cnn-12-6).\n",
      "Using a pipeline without specifying a model name and revision in production is not recommended.\n"
     ]
    },
    {
     "data": {
      "application/vnd.jupyter.widget-view+json": {
       "model_id": "db7295b959434e6cb61c0e4ae9027fad",
       "version_major": 2,
       "version_minor": 0
      },
      "text/plain": [
       "config.json:   0%|          | 0.00/1.80k [00:00<?, ?B/s]"
      ]
     },
     "metadata": {},
     "output_type": "display_data"
    },
    {
     "name": "stderr",
     "output_type": "stream",
     "text": [
      "c:\\Users\\Jiang\\anaconda3\\envs\\llm\\lib\\site-packages\\huggingface_hub\\file_download.py:139: UserWarning: `huggingface_hub` cache-system uses symlinks by default to efficiently store duplicated files but your machine does not support them in C:\\Users\\Jiang\\.cache\\huggingface\\hub\\models--sshleifer--distilbart-cnn-12-6. Caching files will still work but in a degraded version that might require more space on your disk. This warning can be disabled by setting the `HF_HUB_DISABLE_SYMLINKS_WARNING` environment variable. For more details, see https://huggingface.co/docs/huggingface_hub/how-to-cache#limitations.\n",
      "To support symlinks on Windows, you either need to activate Developer Mode or to run Python as an administrator. In order to activate developer mode, see this article: https://docs.microsoft.com/en-us/windows/apps/get-started/enable-your-device-for-development\n",
      "  warnings.warn(message)\n"
     ]
    },
    {
     "data": {
      "application/vnd.jupyter.widget-view+json": {
       "model_id": "2615860247514ebdb4b7547723ae422c",
       "version_major": 2,
       "version_minor": 0
      },
      "text/plain": [
       "pytorch_model.bin:   0%|          | 0.00/1.22G [00:00<?, ?B/s]"
      ]
     },
     "metadata": {},
     "output_type": "display_data"
    },
    {
     "data": {
      "application/vnd.jupyter.widget-view+json": {
       "model_id": "a7dfc16e83384ed68c68423faba818f9",
       "version_major": 2,
       "version_minor": 0
      },
      "text/plain": [
       "tokenizer_config.json:   0%|          | 0.00/26.0 [00:00<?, ?B/s]"
      ]
     },
     "metadata": {},
     "output_type": "display_data"
    },
    {
     "data": {
      "application/vnd.jupyter.widget-view+json": {
       "model_id": "b83790c8036d4477a7196646109f35a0",
       "version_major": 2,
       "version_minor": 0
      },
      "text/plain": [
       "vocab.json:   0%|          | 0.00/899k [00:00<?, ?B/s]"
      ]
     },
     "metadata": {},
     "output_type": "display_data"
    },
    {
     "data": {
      "application/vnd.jupyter.widget-view+json": {
       "model_id": "8b898b1bec384a2b939e728377500af9",
       "version_major": 2,
       "version_minor": 0
      },
      "text/plain": [
       "merges.txt:   0%|          | 0.00/456k [00:00<?, ?B/s]"
      ]
     },
     "metadata": {},
     "output_type": "display_data"
    },
    {
     "data": {
      "text/plain": [
       "[{'summary_text': ' America has changed dramatically during recent years . The number of engineering graduates in the U.S. has declined in traditional engineering disciplines such as mechanical, civil,    electrical, chemical, and aeronautical engineering . Rapidly developing economies such as China and India continue to encourage and advance the teaching of engineering .'}]"
      ]
     },
     "execution_count": 9,
     "metadata": {},
     "output_type": "execute_result"
    }
   ],
   "source": [
    "from transformers import pipeline\n",
    "\n",
    "summarizer = pipeline(\"summarization\")\n",
    "summarizer(\n",
    "    \"\"\"\n",
    "    America has changed dramatically during recent years. Not only has the number of \n",
    "    graduates in traditional engineering disciplines such as mechanical, civil, \n",
    "    electrical, chemical, and aeronautical engineering declined, but in most of \n",
    "    the premier American universities engineering curricula now concentrate on \n",
    "    and encourage largely the study of engineering science. As a result, there \n",
    "    are declining offerings in engineering subjects dealing with infrastructure, \n",
    "    the environment, and related issues, and greater concentration on high \n",
    "    technology subjects, largely supporting increasingly complex scientific \n",
    "    developments. While the latter is important, it should not be at the expense \n",
    "    of more traditional engineering.\n",
    "\n",
    "    Rapidly developing economies such as China and India, as well as other \n",
    "    industrial countries in Europe and Asia, continue to encourage and advance \n",
    "    the teaching of engineering. Both China and India, respectively, graduate \n",
    "    six and eight times as many traditional engineers as does the United States. \n",
    "    Other industrial countries at minimum maintain their output, while America \n",
    "    suffers an increasingly serious decline in the number of engineering graduates \n",
    "    and a lack of well-educated engineers.\n",
    "\"\"\"\n",
    ")"
   ]
  },
  {
   "cell_type": "code",
   "execution_count": 10,
   "metadata": {},
   "outputs": [
    {
     "data": {
      "application/vnd.jupyter.widget-view+json": {
       "model_id": "50d37d02b6224c9198541ae74d61f887",
       "version_major": 2,
       "version_minor": 0
      },
      "text/plain": [
       "config.json:   0%|          | 0.00/1.42k [00:00<?, ?B/s]"
      ]
     },
     "metadata": {},
     "output_type": "display_data"
    },
    {
     "name": "stderr",
     "output_type": "stream",
     "text": [
      "c:\\Users\\Jiang\\anaconda3\\envs\\llm\\lib\\site-packages\\huggingface_hub\\file_download.py:139: UserWarning: `huggingface_hub` cache-system uses symlinks by default to efficiently store duplicated files but your machine does not support them in C:\\Users\\Jiang\\.cache\\huggingface\\hub\\models--Helsinki-NLP--opus-mt-fr-en. Caching files will still work but in a degraded version that might require more space on your disk. This warning can be disabled by setting the `HF_HUB_DISABLE_SYMLINKS_WARNING` environment variable. For more details, see https://huggingface.co/docs/huggingface_hub/how-to-cache#limitations.\n",
      "To support symlinks on Windows, you either need to activate Developer Mode or to run Python as an administrator. In order to activate developer mode, see this article: https://docs.microsoft.com/en-us/windows/apps/get-started/enable-your-device-for-development\n",
      "  warnings.warn(message)\n"
     ]
    },
    {
     "data": {
      "application/vnd.jupyter.widget-view+json": {
       "model_id": "7a4899d0e62e484c9a89cd0b90a11fc9",
       "version_major": 2,
       "version_minor": 0
      },
      "text/plain": [
       "pytorch_model.bin:   0%|          | 0.00/301M [00:00<?, ?B/s]"
      ]
     },
     "metadata": {},
     "output_type": "display_data"
    },
    {
     "data": {
      "application/vnd.jupyter.widget-view+json": {
       "model_id": "29324b284da24462bee6f9d4383f7de9",
       "version_major": 2,
       "version_minor": 0
      },
      "text/plain": [
       "generation_config.json:   0%|          | 0.00/293 [00:00<?, ?B/s]"
      ]
     },
     "metadata": {},
     "output_type": "display_data"
    },
    {
     "data": {
      "application/vnd.jupyter.widget-view+json": {
       "model_id": "d5057fd0c30e4a7991942eaef0ebf192",
       "version_major": 2,
       "version_minor": 0
      },
      "text/plain": [
       "tokenizer_config.json:   0%|          | 0.00/42.0 [00:00<?, ?B/s]"
      ]
     },
     "metadata": {},
     "output_type": "display_data"
    },
    {
     "data": {
      "application/vnd.jupyter.widget-view+json": {
       "model_id": "53eeb0b2054b4a0ba0a20f219f7c839c",
       "version_major": 2,
       "version_minor": 0
      },
      "text/plain": [
       "source.spm:   0%|          | 0.00/802k [00:00<?, ?B/s]"
      ]
     },
     "metadata": {},
     "output_type": "display_data"
    },
    {
     "data": {
      "application/vnd.jupyter.widget-view+json": {
       "model_id": "f9bf5c57d7a14e419b9280a61461ab3f",
       "version_major": 2,
       "version_minor": 0
      },
      "text/plain": [
       "target.spm:   0%|          | 0.00/778k [00:00<?, ?B/s]"
      ]
     },
     "metadata": {},
     "output_type": "display_data"
    },
    {
     "data": {
      "application/vnd.jupyter.widget-view+json": {
       "model_id": "8c4cda71ff4947298dff9e5f5a855c4e",
       "version_major": 2,
       "version_minor": 0
      },
      "text/plain": [
       "vocab.json:   0%|          | 0.00/1.34M [00:00<?, ?B/s]"
      ]
     },
     "metadata": {},
     "output_type": "display_data"
    },
    {
     "name": "stderr",
     "output_type": "stream",
     "text": [
      "c:\\Users\\Jiang\\anaconda3\\envs\\llm\\lib\\site-packages\\transformers\\models\\marian\\tokenization_marian.py:175: UserWarning: Recommended: pip install sacremoses.\n",
      "  warnings.warn(\"Recommended: pip install sacremoses.\")\n"
     ]
    },
    {
     "data": {
      "text/plain": [
       "[{'translation_text': 'This course is produced by Hugging Face.'}]"
      ]
     },
     "execution_count": 10,
     "metadata": {},
     "output_type": "execute_result"
    }
   ],
   "source": [
    "from transformers import pipeline\n",
    "\n",
    "translator = pipeline(\"translation\", model=\"Helsinki-NLP/opus-mt-fr-en\")\n",
    "translator(\"Ce cours est produit par Hugging Face.\")"
   ]
  },
  {
   "cell_type": "code",
   "execution_count": null,
   "metadata": {},
   "outputs": [],
   "source": []
  }
 ],
 "metadata": {
  "colab": {
   "name": "Transformers能做什么？",
   "provenance": []
  },
  "kernelspec": {
   "display_name": "llm",
   "language": "python",
   "name": "python3"
  },
  "language_info": {
   "codemirror_mode": {
    "name": "ipython",
    "version": 3
   },
   "file_extension": ".py",
   "mimetype": "text/x-python",
   "name": "python",
   "nbconvert_exporter": "python",
   "pygments_lexer": "ipython3",
   "version": "3.10.15"
  }
 },
 "nbformat": 4,
 "nbformat_minor": 4
}
